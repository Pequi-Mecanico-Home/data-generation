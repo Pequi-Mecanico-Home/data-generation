{
 "cells": [
  {
   "cell_type": "markdown",
   "metadata": {},
   "source": [
    "## Push your newly generated dataset to the 🤗 Hub\n",
    "Just to make things clear, this is a notebook that is not part of the `sdg-engine` package. \n",
    "\n",
    "It is simply a notebook that can be used to push your newly generated dataset to the 🤗 Hub."
   ]
  },
  {
   "cell_type": "markdown",
   "metadata": {},
   "source": [
    "### Loading the dataset\n",
    "Load the dataset from the local directory. More information on how to load image datasets into 🤗  HuggingFace `datasets` can be found [here](https://huggingface.co/docs/datasets/image_load)."
   ]
  },
  {
   "cell_type": "code",
   "execution_count": null,
   "metadata": {},
   "outputs": [],
   "source": [
    "from datasets import load_dataset\n",
    "\n",
    "DATASET_PATH = \"../sdg_engine/tyless-5-objects-example\"\n",
    "dataset = load_dataset(\"imagefolder\", data_dir=DATASET_PATH)\n",
    "print(f\"Dataset loaded: \\n{dataset}\")"
   ]
  },
  {
   "cell_type": "markdown",
   "metadata": {},
   "source": [
    "### Pushing the dataset to the 🤗 Hub\n",
    "To push the dataset to the 🤗 Hub, you need to create a repository on the 🤗 Hub and then push the dataset to it. More information on how to push datasets to the 🤗 Hub can be found [here](https://huggingface.co/docs/datasets/push_to_hub)."
   ]
  },
  {
   "cell_type": "code",
   "execution_count": null,
   "metadata": {},
   "outputs": [],
   "source": [
    "import os\n",
    "\n",
    "HF_TOKEN = os.getenv(\"HF_TOKEN\")\n",
    "\n",
    "dataset.push_to_hub(\n",
    "    token=HF_TOKEN,\n",
    "    repo_id=\"federicoarenas-ai/tyless-5-objects-example\",\n",
    ")"
   ]
  }
 ],
 "metadata": {
  "kernelspec": {
   "display_name": ".venv",
   "language": "python",
   "name": "python3"
  },
  "language_info": {
   "codemirror_mode": {
    "name": "ipython",
    "version": 3
   },
   "file_extension": ".py",
   "mimetype": "text/x-python",
   "name": "python",
   "nbconvert_exporter": "python",
   "pygments_lexer": "ipython3",
   "version": "3.11.7"
  }
 },
 "nbformat": 4,
 "nbformat_minor": 2
}
